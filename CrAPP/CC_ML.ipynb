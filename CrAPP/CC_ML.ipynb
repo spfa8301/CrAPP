{
 "cells": [
  {
   "cell_type": "markdown",
   "id": "57c7b058-1a10-42da-b6df-939bde1bbffc",
   "metadata": {},
   "source": [
    "* Activate Virtual Env, use it for everything for this project\n",
    "* create a directory for our project\n",
    "* install jupyterlab into that env\n",
    "* launch a JupyterLab Lab\n",
    "* install packages as necessary using 'pip',\n",
    "    and remember to add each one to a file called 'requirements.txt'\n",
    "* use a '.gitignore' file to tell git to ignore your jupyter CrAPP"
   ]
  },
  {
   "cell_type": "code",
   "execution_count": 11,
   "id": "b04a80a0-30f5-459a-a75c-0d50e4cdd150",
   "metadata": {},
   "outputs": [],
   "source": [
    "# Load the Credit Card fraud dataset\n",
    "\n",
    "from sklearn.datasets import fetch_openml"
   ]
  },
  {
   "cell_type": "code",
   "execution_count": 13,
   "id": "ad418762-b1d5-41a5-85e1-75cbcb795126",
   "metadata": {},
   "outputs": [],
   "source": [
    "CC = fetch_openml(name='creditcard')"
   ]
  },
  {
   "cell_type": "code",
   "execution_count": null,
   "id": "5a31525c-065b-48d5-a5f9-6628f03f3c61",
   "metadata": {},
   "outputs": [],
   "source": [
    "#fit a pipeline"
   ]
  },
  {
   "cell_type": "code",
   "execution_count": 14,
   "id": "b0d82a28-906f-4a83-8827-82819cb7e92e",
   "metadata": {},
   "outputs": [],
   "source": [
    "from sklearn.svm import SVC\n",
    "from sklearn.preprocessing import StandardScaler\n",
    "from sklearn.datasets import make_classification\n",
    "from sklearn.model_selection import train_test_split\n",
    "from sklearn.pipeline import Pipeline"
   ]
  },
  {
   "cell_type": "code",
   "execution_count": 15,
   "id": "5e8aa71e-18c7-4a73-bde3-86117a2820f2",
   "metadata": {},
   "outputs": [],
   "source": [
    "X_train, X_test, y_train, y_test = train_test_split(CC.data, CC.target,random_state=0)"
   ]
  },
  {
   "cell_type": "code",
   "execution_count": 16,
   "id": "2f4fd65e-ce23-4a79-a53c-fa6aba643529",
   "metadata": {},
   "outputs": [],
   "source": [
    "pipe = Pipeline([('scaler', StandardScaler()), ('svc', SVC())])"
   ]
  },
  {
   "cell_type": "code",
   "execution_count": 17,
   "id": "f4269910-ad21-42ac-bf01-e82ad88ef876",
   "metadata": {},
   "outputs": [
    {
     "data": {
      "text/plain": [
       "Pipeline(steps=[('scaler', StandardScaler()), ('svc', SVC())])"
      ]
     },
     "execution_count": 17,
     "metadata": {},
     "output_type": "execute_result"
    }
   ],
   "source": [
    "pipe.fit(X_train, y_train)"
   ]
  },
  {
   "cell_type": "code",
   "execution_count": 18,
   "id": "356d247c-1d5d-4dce-adc8-d5922e272ef8",
   "metadata": {},
   "outputs": [],
   "source": [
    "import pickle\n",
    "with open('pipe.pickle','wb') as f:\n",
    "    pickle.dump(pipe, f, pickle.HIGHEST_PROTOCOL)"
   ]
  },
  {
   "cell_type": "code",
   "execution_count": 21,
   "id": "aa84501f-cd6f-47cf-b00d-3edb646eac18",
   "metadata": {},
   "outputs": [],
   "source": [
    "# save some test data to file\n",
    "import json\n",
    "with open('testdata.json', 'w') as f:\n",
    "    json.dump(CC.data.iloc[0].values.tolist(), f)"
   ]
  },
  {
   "cell_type": "code",
   "execution_count": null,
   "id": "b4cbea3f-3c53-4306-bb71-c0a8876937cc",
   "metadata": {},
   "outputs": [],
   "source": []
  }
 ],
 "metadata": {
  "kernelspec": {
   "display_name": "Python 3",
   "language": "python",
   "name": "python3"
  },
  "language_info": {
   "codemirror_mode": {
    "name": "ipython",
    "version": 3
   },
   "file_extension": ".py",
   "mimetype": "text/x-python",
   "name": "python",
   "nbconvert_exporter": "python",
   "pygments_lexer": "ipython3",
   "version": "3.9.4"
  }
 },
 "nbformat": 4,
 "nbformat_minor": 5
}
